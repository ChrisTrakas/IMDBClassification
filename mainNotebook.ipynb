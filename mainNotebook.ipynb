{
 "cells": [
  {
   "cell_type": "code",
   "execution_count": 1,
   "metadata": {},
   "outputs": [],
   "source": [
    "import re,os,glob,json,math\n",
    "import numpy as np\n",
    "from numpy import random\n",
    "from sklearn.model_selection import train_test_split\n",
    "from sklearn.linear_model import LogisticRegression\n",
    "from sklearn import metrics\n",
    "from sklearn.metrics import classification_report,confusion_matrix\n",
    "import matplotlib.pyplot as plt "
   ]
  },
  {
   "cell_type": "code",
   "execution_count": 2,
   "metadata": {},
   "outputs": [
    {
     "name": "stdout",
     "output_type": "stream",
     "text": [
      "/home/chris/anaconda3/aclImdb/train/pos\n",
      "/home/chris/anaconda3/aclImdb/train/neg\n",
      "/home/chris/anaconda3/aclImdb/test/pos\n",
      "/home/chris/anaconda3/aclImdb/test/neg\n",
      "/home/chris/anaconda3/aclImdb/train/pos\n",
      "/home/chris/anaconda3/aclImdb/train/neg\n"
     ]
    }
   ],
   "source": [
    "import dataUtils\n",
    "\n",
    "dataUtils.preProcessData('/home/chris/anaconda3/aclImdb')\n",
    "dictionary = dataUtils.createWordDictionary('/home/chris/anaconda3/aclImdb')\n",
    "\n",
    "sorted_dict = {}\n",
    "sorted_keys = sorted(dictionary, key=dictionary.get,reverse=True) \n",
    "\n",
    "for w in sorted_keys:\n",
    "    sorted_dict[w] = dictionary[w]\n",
    "    \n",
    "with open('/home/chris/anaconda3/dict.json', 'w') as f :\n",
    "    json.dump(sorted_dict, f)        "
   ]
  },
  {
   "cell_type": "code",
   "execution_count": 2,
   "metadata": {},
   "outputs": [],
   "source": [
    "with open('/home/chris/anaconda3/dict.json', 'r') as f :\n",
    "    dictionary = json.load(f)"
   ]
  },
  {
   "cell_type": "code",
   "execution_count": 2,
   "metadata": {
    "scrolled": true
   },
   "outputs": [
    {
     "name": "stdout",
     "output_type": "stream",
     "text": [
      "2021-01-06 21:11:35.992364\n"
     ]
    },
    {
     "ename": "NameError",
     "evalue": "name 'dictionary' is not defined",
     "output_type": "error",
     "traceback": [
      "\u001b[0;31m---------------------------------------------------------------------------\u001b[0m",
      "\u001b[0;31mNameError\u001b[0m                                 Traceback (most recent call last)",
      "\u001b[0;32m<ipython-input-2-1c8646db890e>\u001b[0m in \u001b[0;36m<module>\u001b[0;34m\u001b[0m\n\u001b[1;32m      5\u001b[0m     \u001b[0;32mfor\u001b[0m \u001b[0mj\u001b[0m \u001b[0;32min\u001b[0m \u001b[0;34m[\u001b[0m\u001b[0;36m100\u001b[0m\u001b[0;34m,\u001b[0m\u001b[0;36m500\u001b[0m\u001b[0;34m,\u001b[0m\u001b[0;36m1000\u001b[0m\u001b[0;34m,\u001b[0m\u001b[0;36m2000\u001b[0m\u001b[0;34m,\u001b[0m\u001b[0;36m4000\u001b[0m\u001b[0;34m,\u001b[0m\u001b[0;36m5000\u001b[0m\u001b[0;34m]\u001b[0m\u001b[0;34m:\u001b[0m\u001b[0;34m\u001b[0m\u001b[0;34m\u001b[0m\u001b[0m\n\u001b[1;32m      6\u001b[0m         \u001b[0mprint\u001b[0m\u001b[0;34m(\u001b[0m\u001b[0mdatetime\u001b[0m\u001b[0;34m.\u001b[0m\u001b[0mnow\u001b[0m\u001b[0;34m(\u001b[0m\u001b[0;34m)\u001b[0m\u001b[0;34m)\u001b[0m\u001b[0;34m\u001b[0m\u001b[0;34m\u001b[0m\u001b[0m\n\u001b[0;32m----> 7\u001b[0;31m         \u001b[0marray\u001b[0m \u001b[0;34m=\u001b[0m \u001b[0mdataUtils\u001b[0m\u001b[0;34m.\u001b[0m\u001b[0mtextToArray\u001b[0m\u001b[0;34m(\u001b[0m\u001b[0;34m'/home/chris/anaconda3/aclImdb'\u001b[0m\u001b[0;34m,\u001b[0m\u001b[0mdictionary\u001b[0m\u001b[0;34m,\u001b[0m\u001b[0mi\u001b[0m\u001b[0;34m,\u001b[0m\u001b[0mj\u001b[0m\u001b[0;34m)\u001b[0m\u001b[0;34m\u001b[0m\u001b[0;34m\u001b[0m\u001b[0m\n\u001b[0m\u001b[1;32m      8\u001b[0m         \u001b[0mnp\u001b[0m\u001b[0;34m.\u001b[0m\u001b[0msave\u001b[0m\u001b[0;34m(\u001b[0m\u001b[0mstr\u001b[0m\u001b[0;34m(\u001b[0m\u001b[0mi\u001b[0m\u001b[0;34m)\u001b[0m\u001b[0;34m+\u001b[0m\u001b[0;34m\"_\"\u001b[0m\u001b[0;34m+\u001b[0m\u001b[0mstr\u001b[0m\u001b[0;34m(\u001b[0m\u001b[0mj\u001b[0m\u001b[0;34m)\u001b[0m\u001b[0;34m,\u001b[0m \u001b[0marray\u001b[0m \u001b[0;34m)\u001b[0m\u001b[0;34m\u001b[0m\u001b[0;34m\u001b[0m\u001b[0m\n\u001b[1;32m      9\u001b[0m         \u001b[0mprint\u001b[0m\u001b[0;34m(\u001b[0m\u001b[0mdatetime\u001b[0m\u001b[0;34m.\u001b[0m\u001b[0mnow\u001b[0m\u001b[0;34m(\u001b[0m\u001b[0;34m)\u001b[0m\u001b[0;34m)\u001b[0m\u001b[0;34m\u001b[0m\u001b[0;34m\u001b[0m\u001b[0m\n",
      "\u001b[0;31mNameError\u001b[0m: name 'dictionary' is not defined"
     ]
    }
   ],
   "source": [
    "import dataUtils\n",
    "from datetime import datetime     \n",
    "\n",
    "for i in [0,100,1000,10000,20000,40000,60000]:\n",
    "    for j in [100,500,1000,2000,4000,5000]:\n",
    "        print(datetime.now())    \n",
    "        array = dataUtils.textToArray('/home/chris/anaconda3/aclImdb',dictionary,i,j)\n",
    "        np.save(str(i)+\"_\"+str(j), array )  \n",
    "        print(datetime.now())"
   ]
  },
  {
   "cell_type": "code",
   "execution_count": 2,
   "metadata": {
    "scrolled": true
   },
   "outputs": [
    {
     "name": "stderr",
     "output_type": "stream",
     "text": [
      "/home/chris/Documents/CS/5/ai/Untitled Folder/logReg.py:43: RuntimeWarning: divide by zero encountered in log\n",
      "  return y.dot( np.log(p) ) + (1-y).dot(np.log(1-p))\n"
     ]
    },
    {
     "name": "stdout",
     "output_type": "stream",
     "text": [
      "0 100 Accuracy: 0.6466\n",
      "0 500 Accuracy: 0.7611\n",
      "0 1000 Accuracy: 0.8387\n",
      "0 2000 Accuracy: 0.8374\n",
      "0 4000 Accuracy: 0.8472\n",
      "100 100 Accuracy: 0.6228\n",
      "100 500 Accuracy: 0.7439\n",
      "100 1000 Accuracy: 0.8096\n",
      "100 2000 Accuracy: 0.846\n",
      "100 4000 Accuracy: 0.8365\n",
      "1000 100 Accuracy: 0.5675\n",
      "1000 500 Accuracy: 0.6603\n",
      "1000 1000 Accuracy: 0.7114\n",
      "1000 2000 Accuracy: 0.7627\n",
      "1000 4000 Accuracy: 0.7711\n",
      "10000 100 Accuracy: 0.509\n",
      "10000 500 Accuracy: 0.514\n",
      "10000 1000 Accuracy: 0.5456\n",
      "10000 2000 Accuracy: 0.5561\n",
      "10000 4000 Accuracy: 0.5638\n",
      "20000 100 Accuracy: 0.5012\n",
      "20000 500 Accuracy: 0.499\n",
      "20000 1000 Accuracy: 0.5104\n",
      "20000 2000 Accuracy: 0.5054\n",
      "20000 4000 Accuracy: 0.5066\n",
      "40000 100 Accuracy: 0.5022\n",
      "40000 500 Accuracy: 0.5057\n",
      "40000 1000 Accuracy: 0.5131\n",
      "40000 2000 Accuracy: 0.5168\n",
      "40000 4000 Accuracy: 0.5057\n",
      "60000 100 Accuracy: 0.4966\n",
      "60000 500 Accuracy: 0.5043\n",
      "60000 1000 Accuracy: 0.5038\n",
      "60000 2000 Accuracy: 0.506\n",
      "60000 4000 Accuracy: 0.5192\n"
     ]
    }
   ],
   "source": [
    "import logReg \n",
    "for i in [0,100,1000,10000,20000,40000,60000]:\n",
    "    for j in [100,500,1000,2000,4000]:\n",
    "        array = np.load(str(i)+\"_\"+str(j)+\".npy\")\n",
    "        np.random.shuffle(array)\n",
    "        X = array[:,:array.shape[1]-1]\n",
    "        y = array[:,array.shape[1]-1:]\n",
    "\n",
    "        X_train, X_valid, y_train, y_valid = train_test_split(X, y, train_size=0.6,test_size=0.4, random_state=101)\n",
    "        X_test, X_cv, y_test, y_cv= train_test_split(X_valid, y_valid, train_size=0.5,test_size=0.5, random_state=101)\n",
    "        \n",
    "        w = logReg.gradientAscent(X_train,y_train,0.0001,1,0.3,0)\n",
    "        p1 = logReg.predictP(w,X_test)\n",
    "\n",
    "        print(str(i)+\" \"+str(j)+\" Accuracy:\",metrics.accuracy_score(y_test, p1))\n",
    "        array = None\n",
    "        "
   ]
  },
  {
   "cell_type": "code",
   "execution_count": 21,
   "metadata": {},
   "outputs": [],
   "source": [
    "array = np.load(\"100_2000.npy\")\n",
    "np.random.shuffle(array)\n",
    "\n",
    "X = array[:,:array.shape[1]-1]\n",
    "y = array[:,array.shape[1]-1:]\n",
    "\n",
    "X_train, X_valid, y_train, y_valid = train_test_split(X, y, train_size=0.6,test_size=0.4, random_state=101)\n",
    "X_test, X_cv, y_test, y_cv= train_test_split(X_valid, y_valid, train_size=0.5,test_size=0.5, random_state=101)"
   ]
  },
  {
   "cell_type": "code",
   "execution_count": 22,
   "metadata": {},
   "outputs": [],
   "source": [
    "import logReg       #takes a minute\n",
    "pr1=[]\n",
    "pr2=[]\n",
    "for i in range(1,X_train.shape[0],2000):\n",
    "    w = logReg.gradientAscent(X_train[:i],y_train[:i],0.0001,1,0.3,0)\n",
    "    p1 = logReg.predictP(w,X_test)\n",
    "    pr1.append(logReg.accuracy(w,X_cv,y_cv) )\n",
    "    pr2.append(logReg.accuracy(w,X_train[:i],y_train[:i]) )"
   ]
  },
  {
   "cell_type": "code",
   "execution_count": 24,
   "metadata": {},
   "outputs": [
    {
     "data": {
      "text/plain": [
       "[<matplotlib.lines.Line2D at 0x7feb15659df0>]"
      ]
     },
     "execution_count": 24,
     "metadata": {},
     "output_type": "execute_result"
    },
    {
     "data": {
      "image/png": "[encoded data removed]",
      "text/plain": [
       "<Figure size 432x288 with 1 Axes>"
      ]
     },
     "metadata": {
      "needs_background": "light"
     },
     "output_type": "display_data"
    }
   ],
   "source": [
    "pr1 = [1-p for p in pr1]     # loss% = 1-accuracy%\n",
    "pr2 = [1-p for p in pr2]\n",
    "\n",
    "plt.plot(range(len(pr1)),pr1 )\n",
    "plt.plot(range(len(pr2)),pr2 )"
   ]
  },
  {
   "cell_type": "code",
   "execution_count": 27,
   "metadata": {},
   "outputs": [
    {
     "name": "stdout",
     "output_type": "stream",
     "text": [
      "Accuracy: 0.8382\n",
      "              precision    recall  f1-score   support\n",
      "\n",
      "         0.0       0.84      0.83      0.84      4985\n",
      "         1.0       0.84      0.84      0.84      5015\n",
      "\n",
      "    accuracy                           0.84     10000\n",
      "   macro avg       0.84      0.84      0.84     10000\n",
      "weighted avg       0.84      0.84      0.84     10000\n",
      "\n"
     ]
    }
   ],
   "source": [
    "import logReg \n",
    "w = logReg.gradientAscent(X_train,y_train,0.0001,1,0.3,0)\n",
    "p1 = logReg.predictP(w,X_test)\n",
    "\n",
    "print(\"Accuracy:\",metrics.accuracy_score(y_test, p1))\n",
    "print(classification_report(y_test,p1))\n"
   ]
  },
  {
   "cell_type": "code",
   "execution_count": 19,
   "metadata": {
    "scrolled": true
   },
   "outputs": [
    {
     "name": "stdout",
     "output_type": "stream",
     "text": [
      "2021-01-06 17:34:03.936778\n",
      "2021-01-06 17:39:54.670584\n"
     ]
    }
   ],
   "source": [
    "from datetime import datetime              #takes ~30 secs\n",
    "import naiveBayes\n",
    "\n",
    "print(datetime.now())    \n",
    "rlts = naiveBayes.bayesArr(X_train,y_train,X_test)\n",
    "print(datetime.now())\n",
    "\n",
    "print(\"Accuracy:\",metrics.accuracy_score(y_test, rlts))\n",
    "print(classification_report(y_test,rlts))"
   ]
  },
  {
   "cell_type": "code",
   "execution_count": 21,
   "metadata": {},
   "outputs": [
    {
     "name": "stderr",
     "output_type": "stream",
     "text": [
      "/home/chris/Documents/CS/5/ai/Untitled Folder/naiveBayes.py:23: RuntimeWarning: divide by zero encountered in log\n",
      "  prob[c]= np.log( ycounts[c] / ysize)+1\n"
     ]
    },
    {
     "ename": "KeyboardInterrupt",
     "evalue": "",
     "output_type": "error",
     "traceback": [
      "\u001b[0;31m---------------------------------------------------------------------------\u001b[0m",
      "\u001b[0;31mKeyboardInterrupt\u001b[0m                         Traceback (most recent call last)",
      "\u001b[0;32m<ipython-input-21-debd3bfdfab0>\u001b[0m in \u001b[0;36m<module>\u001b[0;34m\u001b[0m\n\u001b[1;32m      3\u001b[0m \u001b[0mpr2\u001b[0m\u001b[0;34m=\u001b[0m\u001b[0;34m[\u001b[0m\u001b[0;34m]\u001b[0m\u001b[0;34m\u001b[0m\u001b[0;34m\u001b[0m\u001b[0m\n\u001b[1;32m      4\u001b[0m \u001b[0;32mfor\u001b[0m \u001b[0mi\u001b[0m \u001b[0;32min\u001b[0m \u001b[0mrange\u001b[0m\u001b[0;34m(\u001b[0m\u001b[0;36m1\u001b[0m\u001b[0;34m,\u001b[0m\u001b[0mX_train\u001b[0m\u001b[0;34m.\u001b[0m\u001b[0mshape\u001b[0m\u001b[0;34m[\u001b[0m\u001b[0;36m0\u001b[0m\u001b[0;34m]\u001b[0m\u001b[0;34m,\u001b[0m\u001b[0;36m10000\u001b[0m\u001b[0;34m)\u001b[0m\u001b[0;34m:\u001b[0m\u001b[0;34m\u001b[0m\u001b[0;34m\u001b[0m\u001b[0m\n\u001b[0;32m----> 5\u001b[0;31m     \u001b[0mpr1\u001b[0m\u001b[0;34m.\u001b[0m\u001b[0mappend\u001b[0m\u001b[0;34m(\u001b[0m\u001b[0mmetrics\u001b[0m\u001b[0;34m.\u001b[0m\u001b[0maccuracy_score\u001b[0m\u001b[0;34m(\u001b[0m\u001b[0mnaiveBayes\u001b[0m\u001b[0;34m.\u001b[0m\u001b[0mbayesArr\u001b[0m\u001b[0;34m(\u001b[0m\u001b[0mX_train\u001b[0m\u001b[0;34m[\u001b[0m\u001b[0;34m:\u001b[0m\u001b[0mi\u001b[0m\u001b[0;34m]\u001b[0m\u001b[0;34m,\u001b[0m\u001b[0my_train\u001b[0m\u001b[0;34m[\u001b[0m\u001b[0;34m:\u001b[0m\u001b[0mi\u001b[0m\u001b[0;34m]\u001b[0m\u001b[0;34m,\u001b[0m\u001b[0mX_cv\u001b[0m\u001b[0;34m)\u001b[0m\u001b[0;34m,\u001b[0m\u001b[0my_cv\u001b[0m\u001b[0;34m)\u001b[0m \u001b[0;34m)\u001b[0m\u001b[0;34m\u001b[0m\u001b[0;34m\u001b[0m\u001b[0m\n\u001b[0m\u001b[1;32m      6\u001b[0m     \u001b[0mpr2\u001b[0m\u001b[0;34m.\u001b[0m\u001b[0mappend\u001b[0m\u001b[0;34m(\u001b[0m\u001b[0mmetrics\u001b[0m\u001b[0;34m.\u001b[0m\u001b[0maccuracy_score\u001b[0m\u001b[0;34m(\u001b[0m\u001b[0mnaiveBayes\u001b[0m\u001b[0;34m.\u001b[0m\u001b[0mbayesArr\u001b[0m\u001b[0;34m(\u001b[0m\u001b[0mX_train\u001b[0m\u001b[0;34m[\u001b[0m\u001b[0;34m:\u001b[0m\u001b[0mi\u001b[0m\u001b[0;34m]\u001b[0m\u001b[0;34m,\u001b[0m\u001b[0my_train\u001b[0m\u001b[0;34m[\u001b[0m\u001b[0;34m:\u001b[0m\u001b[0mi\u001b[0m\u001b[0;34m]\u001b[0m\u001b[0;34m,\u001b[0m\u001b[0mX_train\u001b[0m\u001b[0;34m[\u001b[0m\u001b[0;34m:\u001b[0m\u001b[0mi\u001b[0m\u001b[0;34m]\u001b[0m\u001b[0;34m)\u001b[0m\u001b[0;34m,\u001b[0m\u001b[0my_train\u001b[0m\u001b[0;34m[\u001b[0m\u001b[0;34m:\u001b[0m\u001b[0mi\u001b[0m\u001b[0;34m]\u001b[0m\u001b[0;34m)\u001b[0m \u001b[0;34m)\u001b[0m\u001b[0;34m\u001b[0m\u001b[0;34m\u001b[0m\u001b[0m\n\u001b[1;32m      7\u001b[0m \u001b[0;34m\u001b[0m\u001b[0m\n",
      "\u001b[0;32m~/Documents/CS/5/ai/Untitled Folder/naiveBayes.py\u001b[0m in \u001b[0;36mbayesArr\u001b[0;34m(X_train, y_train, X_test)\u001b[0m\n\u001b[1;32m     26\u001b[0m                 \u001b[0;32mif\u001b[0m \u001b[0;34m(\u001b[0m\u001b[0mx\u001b[0m\u001b[0;34m[\u001b[0m\u001b[0mf\u001b[0m\u001b[0;34m]\u001b[0m\u001b[0;34m==\u001b[0m\u001b[0;36m1\u001b[0m\u001b[0;34m)\u001b[0m\u001b[0;34m:\u001b[0m\u001b[0;34m\u001b[0m\u001b[0;34m\u001b[0m\u001b[0m\n\u001b[1;32m     27\u001b[0m                     \u001b[0mcount\u001b[0m \u001b[0;34m=\u001b[0m \u001b[0mycounts\u001b[0m\u001b[0;34m[\u001b[0m\u001b[0mc\u001b[0m\u001b[0;34m]\u001b[0m \u001b[0;34m-\u001b[0m \u001b[0mcount\u001b[0m\u001b[0;34m\u001b[0m\u001b[0;34m\u001b[0m\u001b[0m\n\u001b[0;32m---> 28\u001b[0;31m                 \u001b[0mprob\u001b[0m\u001b[0;34m[\u001b[0m\u001b[0mc\u001b[0m\u001b[0;34m]\u001b[0m \u001b[0;34m+=\u001b[0m \u001b[0mnp\u001b[0m\u001b[0;34m.\u001b[0m\u001b[0mlog\u001b[0m \u001b[0;34m(\u001b[0m \u001b[0;34m(\u001b[0m\u001b[0mcount\u001b[0m \u001b[0;34m+\u001b[0m\u001b[0;36m1\u001b[0m \u001b[0;34m)\u001b[0m\u001b[0;34m/\u001b[0m\u001b[0;34m(\u001b[0m \u001b[0mycounts\u001b[0m\u001b[0;34m[\u001b[0m\u001b[0mc\u001b[0m\u001b[0;34m]\u001b[0m \u001b[0;34m+\u001b[0m \u001b[0;36m2\u001b[0m\u001b[0;34m)\u001b[0m \u001b[0;34m)\u001b[0m\u001b[0;34m\u001b[0m\u001b[0;34m\u001b[0m\u001b[0m\n\u001b[0m\u001b[1;32m     29\u001b[0m \u001b[0;34m\u001b[0m\u001b[0m\n\u001b[1;32m     30\u001b[0m \u001b[0;34m\u001b[0m\u001b[0m\n",
      "\u001b[0;31mKeyboardInterrupt\u001b[0m: "
     ]
    }
   ],
   "source": [
    "import naiveBayes\n",
    "pr1=[]\n",
    "pr2=[]\n",
    "for i in range(1,X_train.shape[0],10000):\n",
    "    pr1.append(metrics.accuracy_score(naiveBayes.bayesArr(X_train[:i],y_train[:i],X_cv),y_cv) )\n",
    "    pr2.append(metrics.accuracy_score(naiveBayes.bayesArr(X_train[:i],y_train[:i],X_train[:i]),y_train[:i]) )\n",
    "    \n",
    "    \n",
    "    "
   ]
  },
  {
   "cell_type": "code",
   "execution_count": 16,
   "metadata": {},
   "outputs": [
    {
     "data": {
      "text/plain": [
       "[<matplotlib.lines.Line2D at 0x7fc6da80ee20>]"
      ]
     },
     "execution_count": 16,
     "metadata": {},
     "output_type": "execute_result"
    },
    {
     "data": {
      "image/png": "[encoded data removed]",
      "text/plain": [
       "<Figure size 432x288 with 1 Axes>"
      ]
     },
     "metadata": {
      "needs_background": "light"
     },
     "output_type": "display_data"
    }
   ],
   "source": [
    "pr1 = [1-p for p in pr1]\n",
    "pr2 = [1-p for p in pr2]\n",
    "\n",
    "\n",
    "plt.plot(range(len(pr1)),pr1 )\n",
    "plt.plot(range(len(pr2)),pr2 )"
   ]
  }
 ],
 "metadata": {
  "kernelspec": {
   "display_name": "Python 3",
   "language": "python",
   "name": "python3"
  },
  "language_info": {
   "codemirror_mode": {
    "name": "ipython",
    "version": 3
   },
   "file_extension": ".py",
   "mimetype": "text/x-python",
   "name": "python",
   "nbconvert_exporter": "python",
   "pygments_lexer": "ipython3",
   "version": "3.8.3"
  }
 },
 "nbformat": 4,
 "nbformat_minor": 4
}
